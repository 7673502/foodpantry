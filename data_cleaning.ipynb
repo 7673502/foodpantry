{
  "nbformat": 4,
  "nbformat_minor": 0,
  "metadata": {
    "colab": {
      "provenance": [],
      "authorship_tag": "ABX9TyM6qXQKgK4MAxVEX1nld+A8",
      "include_colab_link": true
    },
    "kernelspec": {
      "name": "python3",
      "display_name": "Python 3"
    },
    "language_info": {
      "name": "python"
    }
  },
  "cells": [
    {
      "cell_type": "markdown",
      "metadata": {
        "id": "view-in-github",
        "colab_type": "text"
      },
      "source": [
        "<a href=\"https://colab.research.google.com/github/7673502/food-pantry/blob/main/data_cleaning.ipynb\" target=\"_parent\"><img src=\"https://colab.research.google.com/assets/colab-badge.svg\" alt=\"Open In Colab\"/></a>"
      ]
    },
    {
      "cell_type": "code",
      "execution_count": null,
      "metadata": {
        "id": "CyuWNWtMBUTt"
      },
      "outputs": [],
      "source": [
        "# install dependencies\n",
        "!pip install mastml\n",
        "!pip install scikit-learn\n",
        "!pip install numpy\n",
        "!pip install pandas"
      ]
    }
  ]
}